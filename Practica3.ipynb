{
 "cells": [
  {
   "cell_type": "code",
   "execution_count": 1,
   "id": "fbdaa445",
   "metadata": {},
   "outputs": [],
   "source": [
    "from pyspark import SparkContext,HiveContext\n",
    "from pyspark.sql import SQLContext,SparkSession\n",
    "from pyspark import SparkContext\n",
    "from pyspark.sql import functions as F\n",
    "from pyspark.sql.window import Window\n",
    "\n",
    "from pyspark.ml.feature import VectorAssembler\n",
    "from pyspark.ml.tuning import TrainValidationSplit\n",
    "from pyspark.ml.regression import LinearRegression\n",
    "from pyspark.ml.evaluation import RegressionEvaluator\n",
    "\n",
    "import os\n",
    "import subprocess\n",
    "import pandas as pd\n",
    "\n",
    "from functools import reduce\n",
    "from datetime import date, datetime\n"
   ]
  },
  {
   "cell_type": "code",
   "execution_count": 2,
   "metadata": {},
   "outputs": [
    {
     "data": {
      "text/plain": [
       "datetime.datetime(2021, 6, 20, 19, 0, 21, 34144)"
      ]
     },
     "execution_count": 2,
     "metadata": {},
     "output_type": "execute_result"
    }
   ],
   "source": [
    "now = datetime.now()\n",
    "now"
   ]
  },
  {
   "cell_type": "code",
   "execution_count": 3,
   "metadata": {},
   "outputs": [],
   "source": [
    "SparkContext.setSystemProperty('spark.executor.memory', '11468m')\n",
    "SparkContext.setSystemProperty('spark.executor.instances', '6')"
   ]
  },
  {
   "cell_type": "code",
   "execution_count": 4,
   "metadata": {},
   "outputs": [],
   "source": [
    "sparkSession = SparkSession.builder.appName(\"bigdatita\").getOrCreate()"
   ]
  },
  {
   "cell_type": "code",
   "execution_count": 5,
   "metadata": {},
   "outputs": [
    {
     "data": {
      "text/plain": [
       "[('spark.ui.proxyBase', '/proxy/application_1624138385244_0006'),\n",
       " ('spark.eventLog.enabled', 'true'),\n",
       " ('spark.dynamicAllocation.minExecutors', '1'),\n",
       " ('spark.app.startTime', '1624215623358'),\n",
       " ('spark.sql.warehouse.dir', 'file:/spark-warehouse'),\n",
       " ('spark.eventLog.dir',\n",
       "  'gs://dataproc-temp-us-central1-749534659025-ywijjblb/100dc73e-522d-450b-8df4-b014a698738b/spark-job-history'),\n",
       " ('spark.yarn.am.memory', '640m'),\n",
       " ('spark.driver.host',\n",
       "  'scala-practice-m.us-central1-a.c.future-surge-316401.internal'),\n",
       " ('spark.executor.instances', '6'),\n",
       " ('spark.executor.memory', '11468m'),\n",
       " ('spark.serializer.objectStreamReset', '100'),\n",
       " ('spark.yarn.unmanagedAM.enabled', 'true'),\n",
       " ('spark.sql.autoBroadcastJoinThreshold', '43m'),\n",
       " ('spark.submit.deployMode', 'client'),\n",
       " ('spark.driver.appUIAddress',\n",
       "  'http://scala-practice-m.us-central1-a.c.future-surge-316401.internal:39239'),\n",
       " ('spark.ui.filters',\n",
       "  'org.apache.hadoop.yarn.server.webproxy.amfilter.AmIpFilter'),\n",
       " ('spark.sql.cbo.joinReorder.enabled', 'true'),\n",
       " ('spark.driver.maxResultSize', '1920m'),\n",
       " ('spark.shuffle.service.enabled', 'true'),\n",
       " ('spark.scheduler.mode', 'FAIR'),\n",
       " ('spark.sql.adaptive.enabled', 'true'),\n",
       " ('spark.yarn.jars', 'local:/usr/lib/spark/jars/*'),\n",
       " ('spark.scheduler.minRegisteredResourcesRatio', '0.0'),\n",
       " ('spark.org.apache.hadoop.yarn.server.webproxy.amfilter.AmIpFilter.param.PROXY_URI_BASES',\n",
       "  'http://scala-practice-m:8088/proxy/application_1624138385244_0006'),\n",
       " ('spark.executor.id', 'driver'),\n",
       " ('spark.executorEnv.PYTHONPATH',\n",
       "  '{{PWD}}/pyspark.zip<CPS>{{PWD}}/py4j-0.10.9-src.zip'),\n",
       " ('spark.executor.cores', '2'),\n",
       " ('spark.org.apache.hadoop.yarn.server.webproxy.amfilter.AmIpFilter.param.PROXY_HOSTS',\n",
       "  'scala-practice-m'),\n",
       " ('spark.app.id', 'application_1624138385244_0006'),\n",
       " ('spark.dynamicAllocation.maxExecutors', '10000'),\n",
       " ('spark.hadoop.hive.execution.engine', 'mr'),\n",
       " ('spark.driver.port', '44993'),\n",
       " ('spark.master', 'yarn'),\n",
       " ('spark.ui.port', '0'),\n",
       " ('spark.app.name', 'bigdatita'),\n",
       " ('spark.sql.catalogImplementation', 'hive'),\n",
       " ('spark.rpc.message.maxSize', '512'),\n",
       " ('spark.rdd.compress', 'True'),\n",
       " ('spark.history.fs.logDirectory',\n",
       "  'gs://dataproc-temp-us-central1-749534659025-ywijjblb/100dc73e-522d-450b-8df4-b014a698738b/spark-job-history'),\n",
       " ('spark.executorEnv.OPENBLAS_NUM_THREADS', '1'),\n",
       " ('spark.submit.pyFiles', ''),\n",
       " ('spark.driver.memory', '3840m'),\n",
       " ('spark.yarn.isPython', 'true'),\n",
       " ('spark.dynamicAllocation.enabled', 'true'),\n",
       " ('spark.ui.showConsoleProgress', 'true'),\n",
       " ('spark.yarn.historyServer.address', 'scala-practice-m:18080'),\n",
       " ('spark.sql.cbo.enabled', 'true')]"
      ]
     },
     "execution_count": 5,
     "metadata": {},
     "output_type": "execute_result"
    }
   ],
   "source": [
    "sparkSession.sparkContext.getConf().getAll()"
   ]
  },
  {
   "cell_type": "code",
   "execution_count": 6,
   "metadata": {},
   "outputs": [],
   "source": [
    "df = sparkSession.read.csv('hdfs:///user/jorge/practica/data_raw.csv', inferSchema=False, header=True)"
   ]
  },
  {
   "cell_type": "code",
   "execution_count": 7,
   "metadata": {},
   "outputs": [
    {
     "name": "stdout",
     "output_type": "stream",
     "text": [
      "root\n",
      " |-- trip_id: string (nullable = true)\n",
      " |-- usertype: string (nullable = true)\n",
      " |-- gender: string (nullable = true)\n",
      " |-- starttime: string (nullable = true)\n",
      " |-- stoptime: string (nullable = true)\n",
      " |-- tripduration: string (nullable = true)\n",
      " |-- from_station_id: string (nullable = true)\n",
      " |-- from_station_name: string (nullable = true)\n",
      " |-- latitude_start: string (nullable = true)\n",
      " |-- longitude_start: string (nullable = true)\n",
      " |-- dpcapacity_start: string (nullable = true)\n",
      " |-- to_station_id: string (nullable = true)\n",
      " |-- to_station_name: string (nullable = true)\n",
      " |-- latitude_end: string (nullable = true)\n",
      " |-- longitude_end: string (nullable = true)\n",
      " |-- dpcapacity_end: string (nullable = true)\n",
      " |-- temperature: string (nullable = true)\n",
      " |-- windchill: string (nullable = true)\n",
      " |-- dewpoint: string (nullable = true)\n",
      " |-- humidity: string (nullable = true)\n",
      " |-- pressure: string (nullable = true)\n",
      " |-- visibility: string (nullable = true)\n",
      " |-- wind_speed: string (nullable = true)\n",
      " |-- precipitation: string (nullable = true)\n",
      " |-- events: string (nullable = true)\n",
      " |-- rain: string (nullable = true)\n",
      " |-- conditions: string (nullable = true)\n",
      "\n"
     ]
    }
   ],
   "source": [
    "df.printSchema()"
   ]
  },
  {
   "cell_type": "code",
   "execution_count": 8,
   "metadata": {},
   "outputs": [],
   "source": [
    "df = df.withColumn('trip_id', F.col('trip_id').cast('int'))\n",
    "df = df.withColumn('starttime', F.to_timestamp(F.col('starttime')))\n",
    "df = df.withColumn('stoptime', F.to_timestamp(F.col('stoptime')))\n",
    "df = df.withColumn('tripduration', F.col('tripduration').cast('int'))\n",
    "df = df.withColumn('from_station_id', F.col('from_station_id').cast('int'))\n",
    "df = df.withColumn('latitude_start', F.col('latitude_start').cast('double'))\n",
    "df = df.withColumn('longitude_start', F.col('longitude_start').cast('double'))\n",
    "df = df.withColumn('dpcapacity_start', F.col('dpcapacity_start').cast('int'))\n",
    "df = df.withColumn('to_station_id', F.col('to_station_id').cast('int'))\n",
    "df = df.withColumn('latitude_end', F.col('latitude_start').cast('double'))\n",
    "df = df.withColumn('longitude_end', F.col('longitude_start').cast('double'))\n",
    "df = df.withColumn('dpcapacity_end', F.col('dpcapacity_start').cast('int'))\n"
   ]
  },
  {
   "cell_type": "code",
   "execution_count": 9,
   "metadata": {},
   "outputs": [],
   "source": [
    "df = df.drop('temperature')\n",
    "df = df.drop('usertype')\n",
    "df = df.drop('gender')\n",
    "df = df.drop('stoptime')\n",
    "df = df.drop('from_station_name')\n",
    "df = df.drop('latitude_start')\n",
    "df = df.drop('longitude_start')\n",
    "df = df.drop('dpcapacity_start')\n",
    "df = df.drop('to_station_name')\n",
    "df = df.drop('latitude_end')\n",
    "df = df.drop('longitude_end')\n",
    "df = df.drop('dpcapacity_end')\n",
    "df = df.drop('windchill')\n",
    "df = df.drop('dewpoint')\n",
    "df = df.drop('humidity')\n",
    "df = df.drop('pressure')\n",
    "df = df.drop('visibility')\n",
    "df = df.drop('wind_speed')\n",
    "df = df.drop('precipitation')\n",
    "df = df.drop('events')\n",
    "df = df.drop('rain')\n",
    "df = df.drop('conditions')\n",
    "df = df.drop('trip_id')\n",
    "\n",
    "#this is another test change we should not pay attention to it"
   ]
  },
  {
   "cell_type": "code",
   "execution_count": 10,
   "metadata": {},
   "outputs": [
    {
     "name": "stdout",
     "output_type": "stream",
     "text": [
      "root\n",
      " |-- starttime: timestamp (nullable = true)\n",
      " |-- tripduration: integer (nullable = true)\n",
      " |-- from_station_id: integer (nullable = true)\n",
      " |-- to_station_id: integer (nullable = true)\n",
      "\n"
     ]
    }
   ],
   "source": [
    "df.printSchema()"
   ]
  },
  {
   "cell_type": "code",
   "execution_count": 11,
   "metadata": {},
   "outputs": [],
   "source": [
    "df = df.withColumn('week', F.weekofyear(F.col('starttime')))\n",
    "df = df.withColumn('year', F.year(F.col('starttime')))"
   ]
  },
  {
   "cell_type": "code",
   "execution_count": 12,
   "metadata": {},
   "outputs": [],
   "source": [
    "weeks = df.select('week', 'year').distinct().orderBy('year', 'week')"
   ]
  },
  {
   "cell_type": "code",
   "execution_count": 13,
   "metadata": {},
   "outputs": [],
   "source": [
    "weeks = weeks.filter( \"NOT (week = 1 and year = 2013)\")"
   ]
  },
  {
   "cell_type": "code",
   "execution_count": 14,
   "metadata": {},
   "outputs": [],
   "source": [
    "weeks = weeks.withColumn('week_id', F.row_number().over(Window.orderBy(F.monotonically_increasing_id())))"
   ]
  },
  {
   "cell_type": "code",
   "execution_count": 15,
   "metadata": {},
   "outputs": [],
   "source": [
    "weeks = weeks.withColumn('ancla', F.concat(F.col('year'), F.col('week')))"
   ]
  },
  {
   "cell_type": "code",
   "execution_count": 16,
   "metadata": {},
   "outputs": [
    {
     "name": "stdout",
     "output_type": "stream",
     "text": [
      "+----+----+-------+------+\n",
      "|week|year|week_id| ancla|\n",
      "+----+----+-------+------+\n",
      "|  26|2013|      1|201326|\n",
      "|  27|2013|      2|201327|\n",
      "|  28|2013|      3|201328|\n",
      "|  29|2013|      4|201329|\n",
      "|  30|2013|      5|201330|\n",
      "+----+----+-------+------+\n",
      "only showing top 5 rows\n",
      "\n"
     ]
    }
   ],
   "source": [
    "weeks.show(5)"
   ]
  },
  {
   "cell_type": "code",
   "execution_count": 17,
   "metadata": {},
   "outputs": [],
   "source": [
    "df = df.join(weeks, ['week', 'year'], 'inner')"
   ]
  },
  {
   "cell_type": "code",
   "execution_count": 18,
   "metadata": {},
   "outputs": [
    {
     "name": "stdout",
     "output_type": "stream",
     "text": [
      "root\n",
      " |-- week: integer (nullable = true)\n",
      " |-- year: integer (nullable = true)\n",
      " |-- starttime: timestamp (nullable = true)\n",
      " |-- tripduration: integer (nullable = true)\n",
      " |-- from_station_id: integer (nullable = true)\n",
      " |-- to_station_id: integer (nullable = true)\n",
      " |-- week_id: integer (nullable = true)\n",
      " |-- ancla: string (nullable = true)\n",
      "\n"
     ]
    }
   ],
   "source": [
    "df.printSchema()"
   ]
  },
  {
   "cell_type": "code",
   "execution_count": 19,
   "metadata": {},
   "outputs": [
    {
     "data": {
      "text/plain": [
       "(13, 236)"
      ]
     },
     "execution_count": 19,
     "metadata": {},
     "output_type": "execute_result"
    }
   ],
   "source": [
    "semi = 2\n",
    "semf = df.agg({'week_id':'max'}).collect()[0][0]\n",
    "vobs = 12\n",
    "vdes = 1\n",
    "step = 3\n",
    "anclai = semi + vobs -1\n",
    "anclaf = semf - vdes\n",
    "anclai, anclaf"
   ]
  },
  {
   "cell_type": "code",
   "execution_count": 20,
   "metadata": {},
   "outputs": [],
   "source": [
    "def ing(df,k,ancla):\n",
    "    aux = df.filter((df['week_id']>=(ancla-k+1))&(df['week_id']<=ancla))\n",
    "    expr = [y(F.col('tripduration')).alias(f'x_{z}_{k}') for y,z in zip([F.mean, F.count],\n",
    "                                                             ['media', 'conteo'])]\n",
    "    aux = aux.groupBy('from_station_id', 'to_station_id').agg(*expr).withColumn('week_id',F.lit(ancla))\n",
    "    return aux"
   ]
  },
  {
   "cell_type": "code",
   "execution_count": 24,
   "metadata": {},
   "outputs": [],
   "source": [
    "def tgt(df,ancla):\n",
    "    aux = df.filter((df['week_id']==(ancla+vdes)))\n",
    "    expr = [F.count(F.col('tripduration')).alias('y')]\n",
    "    aux = aux.select('from_station_id', 'to_station_id', 'tripduration').groupby('from_station_id', 'to_station_id').agg(*expr)\n",
    "    aux = aux.withColumn('week_id',F.lit(ancla))\n",
    "    return aux"
   ]
  },
  {
   "cell_type": "code",
   "execution_count": 25,
   "metadata": {},
   "outputs": [],
   "source": [
    "um = ['from_station_id', 'to_station_id', 'week_id']\n",
    "ancla = 200\n",
    "aux = reduce(lambda x,y:x.join(y,um,'outer'),\n",
    "         map(lambda k:ing(df,k,ancla),\n",
    "             range(step,vobs+step,step))).join(\n",
    "                 tgt(df,ancla),\n",
    "                   um,\n",
    "                   how='inner')\n",
    "aux = aux.withColumn('ruta', F.concat(F.col('from_station_id'), F.lit('|'), F.col('to_station_id')))\n",
    "aux = aux.join(weeks, 'week_id', how='inner')\n",
    "aux = aux.drop('week_id', 'year', 'week','from_station_id', 'to_station_id')\n",
    "\n",
    "aux.select(\n",
    "    'ruta', 'ancla', \n",
    "    'x_conteo_3', 'x_conteo_6', 'x_conteo_9', 'x_conteo_12',\n",
    "    'x_media_3', 'x_media_6', 'x_media_9', 'x_media_12',\n",
    "    'y'\n",
    ").write.csv('/user/jorge/results/pred_meantest', mode='overwrite', header=True)"
   ]
  },
  {
   "cell_type": "code",
   "execution_count": null,
   "metadata": {},
   "outputs": [],
   "source": []
  },
  {
   "cell_type": "code",
   "execution_count": 26,
   "metadata": {},
   "outputs": [
    {
     "name": "stdout",
     "output_type": "stream",
     "text": [
      "root\n",
      " |-- x_media_3: double (nullable = true)\n",
      " |-- x_conteo_3: long (nullable = true)\n",
      " |-- x_media_6: double (nullable = true)\n",
      " |-- x_conteo_6: long (nullable = true)\n",
      " |-- x_media_9: double (nullable = true)\n",
      " |-- x_conteo_9: long (nullable = true)\n",
      " |-- x_media_12: double (nullable = true)\n",
      " |-- x_conteo_12: long (nullable = true)\n",
      " |-- y: long (nullable = false)\n",
      " |-- ruta: string (nullable = true)\n",
      " |-- ancla: string (nullable = true)\n",
      "\n"
     ]
    }
   ],
   "source": [
    "aux.printSchema()"
   ]
  },
  {
   "cell_type": "code",
   "execution_count": null,
   "metadata": {},
   "outputs": [],
   "source": [
    "os.system('hdfs dfs -rm /user/jorge/results/pred_mean.csv/p*')"
   ]
  },
  {
   "cell_type": "code",
   "execution_count": 27,
   "metadata": {},
   "outputs": [],
   "source": [
    "um = ['from_station_id', 'to_station_id', 'week_id']"
   ]
  },
  {
   "cell_type": "code",
   "execution_count": null,
   "metadata": {},
   "outputs": [],
   "source": [
    "for ancla in range(anclai,anclaf+1):\n",
    "    aux = reduce(lambda x,y:x.join(y,um,'outer'),\n",
    "             map(lambda k:ing(df,k,ancla),\n",
    "                 range(step,vobs+step,step))).join(\n",
    "                     tgt(df,ancla),\n",
    "                       um,\n",
    "                       how='inner')\n",
    "    aux = aux.withColumn('ruta', F.concat(F.col('from_station_id'), F.lit('|'), F.col('to_station_id')))\n",
    "    aux = aux.join(weeks, 'week_id', how='inner')\n",
    "    aux = aux.drop('week_id', 'year', 'week','from_station_id', 'to_station_id')\n",
    "\n",
    "    aux.select(\n",
    "        'ruta', 'ancla', \n",
    "        'x_conteo_3', 'x_conteo_6', 'x_conteo_9', 'x_conteo_12',\n",
    "        'x_media_3', 'x_media_6', 'x_media_9', 'x_media_12',\n",
    "        'y'\n",
    "    ).write.csv('/user/jorge/results/pred_mean.csv', mode='append')"
   ]
  },
  {
   "cell_type": "code",
   "execution_count": null,
   "metadata": {},
   "outputs": [
    {
     "data": {
      "text/plain": [
       "0"
      ]
     },
     "execution_count": 30,
     "metadata": {},
     "output_type": "execute_result"
    }
   ],
   "source": [
    "os.system(\"hdfs dfs -cat /user/jorge/results/pred_mean.csv/p* > final_res.csv\")"
   ]
  },
  {
   "cell_type": "code",
   "execution_count": null,
   "metadata": {},
   "outputs": [
    {
     "data": {
      "text/plain": [
       "256"
      ]
     },
     "execution_count": 31,
     "metadata": {},
     "output_type": "execute_result"
    }
   ],
   "source": [
    "os.system(\"hdfs dfs -put -f /final_res.csv /user/jorge/results/\")"
   ]
  },
  {
   "cell_type": "code",
   "execution_count": 35,
   "metadata": {},
   "outputs": [
    {
     "name": "stdout",
     "output_type": "stream",
     "text": [
      "finish\n"
     ]
    }
   ],
   "source": [
    "print('finish')"
   ]
  },
  {
   "cell_type": "code",
   "execution_count": 58,
   "metadata": {},
   "outputs": [],
   "source": [
    "del df"
   ]
  },
  {
   "cell_type": "code",
   "execution_count": 59,
   "metadata": {},
   "outputs": [],
   "source": [
    "ss2 = SparkSession.builder.appName(\"bigdatita-regr\").getOrCreate()"
   ]
  },
  {
   "cell_type": "code",
   "execution_count": 60,
   "metadata": {},
   "outputs": [],
   "source": [
    "df = ss2.read.csv('/user/jorge/results/final_res.csv', inferSchema=False, header=False)"
   ]
  },
  {
   "cell_type": "code",
   "execution_count": 61,
   "metadata": {},
   "outputs": [
    {
     "name": "stdout",
     "output_type": "stream",
     "text": [
      "+----+------+---+---+---+---+------------------+------------------+------------------+------------------+----+\n",
      "| _c0|   _c1|_c2|_c3|_c4|_c5|               _c6|               _c7|               _c8|               _c9|_c10|\n",
      "+----+------+---+---+---+---+------------------+------------------+------------------+------------------+----+\n",
      "| 2|2|201719| 42|150|172|194|3284.1666666666665|3846.6133333333332|3614.6686046511627| 3596.082474226804|  26|\n",
      "| 2|3|201719| 23| 47| 55| 78|1102.4347826086957|  978.063829787234| 948.4727272727273| 950.0128205128206|  19|\n",
      "|2|26|201719| 11| 21| 26| 26| 679.3636363636364| 1271.095238095238|1754.1153846153845|1754.1153846153845|   4|\n",
      "|2|45|201719|  1|  7|  7| 10|            2519.0| 2187.714285714286| 2187.714285714286|            1729.6|   3|\n",
      "|2|49|201719|  2|  2|  5|  5|             612.5|             612.5|            1682.6|            1682.6|   1|\n",
      "+----+------+---+---+---+---+------------------+------------------+------------------+------------------+----+\n",
      "only showing top 5 rows\n",
      "\n"
     ]
    }
   ],
   "source": [
    "df.show(5)"
   ]
  },
  {
   "cell_type": "code",
   "execution_count": 62,
   "metadata": {},
   "outputs": [],
   "source": [
    "cols = ['ruta', 'ancla', \n",
    "              'x_num_tot_viajes_3', 'x_num_tot_viajes_6', 'x_num_tot_viajes_9', 'x_num_tot_viajes_12', \n",
    "              'x_duracion_prom_viaje_3', 'x_duracion_prom_viaje_6', 'x_duracion_prom_viaje_9', 'x_duracion_prom_viaje_12', \n",
    "              'y']"
   ]
  },
  {
   "cell_type": "code",
   "execution_count": 63,
   "metadata": {},
   "outputs": [],
   "source": [
    "for idx, col in enumerate(cols):\n",
    "    df = df.withColumnRenamed(f'_c{idx}', col)"
   ]
  },
  {
   "cell_type": "code",
   "execution_count": 64,
   "metadata": {},
   "outputs": [
    {
     "name": "stdout",
     "output_type": "stream",
     "text": [
      "root\n",
      " |-- ruta: string (nullable = true)\n",
      " |-- ancla: string (nullable = true)\n",
      " |-- x_num_tot_viajes_3: string (nullable = true)\n",
      " |-- x_num_tot_viajes_6: string (nullable = true)\n",
      " |-- x_num_tot_viajes_9: string (nullable = true)\n",
      " |-- x_num_tot_viajes_12: string (nullable = true)\n",
      " |-- x_duracion_prom_viaje_3: string (nullable = true)\n",
      " |-- x_duracion_prom_viaje_6: string (nullable = true)\n",
      " |-- x_duracion_prom_viaje_9: string (nullable = true)\n",
      " |-- x_duracion_prom_viaje_12: string (nullable = true)\n",
      " |-- y: string (nullable = true)\n",
      "\n"
     ]
    }
   ],
   "source": [
    "df.printSchema()"
   ]
  },
  {
   "cell_type": "code",
   "execution_count": 65,
   "metadata": {},
   "outputs": [],
   "source": [
    "df = df.withColumn('x_num_tot_viajes_3', F.col('x_num_tot_viajes_3').cast('int'))\n",
    "df = df.withColumn('x_num_tot_viajes_6', F.col('x_num_tot_viajes_6').cast('int'))\n",
    "df = df.withColumn('x_num_tot_viajes_9', F.col('x_num_tot_viajes_9').cast('int'))\n",
    "df = df.withColumn('x_num_tot_viajes_12', F.col('x_num_tot_viajes_12').cast('int'))\n",
    "df = df.withColumn('x_duracion_prom_viaje_3', F.col('x_duracion_prom_viaje_3').cast('int'))\n",
    "df = df.withColumn('x_duracion_prom_viaje_6', F.col('x_duracion_prom_viaje_6').cast('int'))\n",
    "df = df.withColumn('x_duracion_prom_viaje_9', F.col('x_duracion_prom_viaje_9').cast('int'))\n",
    "df = df.withColumn('x_duracion_prom_viaje_12', F.col('x_duracion_prom_viaje_12').cast('int'))\n",
    "df = df.withColumn('y', F.col('y').cast('int'))"
   ]
  },
  {
   "cell_type": "code",
   "execution_count": 66,
   "metadata": {},
   "outputs": [],
   "source": [
    "train, test = df.randomSplit([0.7, 0.3])"
   ]
  },
  {
   "cell_type": "code",
   "execution_count": 67,
   "metadata": {},
   "outputs": [
    {
     "data": {
      "text/plain": [
       "DataFrame[ruta: string, ancla: string, x_num_tot_viajes_3: int, x_num_tot_viajes_6: int, x_num_tot_viajes_9: int, x_num_tot_viajes_12: int, x_duracion_prom_viaje_3: int, x_duracion_prom_viaje_6: int, x_duracion_prom_viaje_9: int, x_duracion_prom_viaje_12: int, y: int]"
      ]
     },
     "execution_count": 67,
     "metadata": {},
     "output_type": "execute_result"
    }
   ],
   "source": [
    "train"
   ]
  },
  {
   "cell_type": "code",
   "execution_count": 68,
   "metadata": {},
   "outputs": [],
   "source": [
    "x_cols = ['x_num_tot_viajes_3', 'x_num_tot_viajes_6', \n",
    "          'x_num_tot_viajes_9', 'x_num_tot_viajes_12', \n",
    "          'x_duracion_prom_viaje_3', 'x_duracion_prom_viaje_6', \n",
    "          'x_duracion_prom_viaje_9', 'x_duracion_prom_viaje_12']"
   ]
  },
  {
   "cell_type": "code",
   "execution_count": 69,
   "metadata": {},
   "outputs": [],
   "source": [
    "assembler = VectorAssembler(inputCols=x_cols, outputCol='features', handleInvalid='skip')"
   ]
  },
  {
   "cell_type": "code",
   "execution_count": 70,
   "metadata": {},
   "outputs": [],
   "source": [
    "v = assembler.transform(train)"
   ]
  },
  {
   "cell_type": "code",
   "execution_count": 71,
   "metadata": {},
   "outputs": [
    {
     "name": "stdout",
     "output_type": "stream",
     "text": [
      "+-------+------+------------------+------------------+------------------+-------------------+-----------------------+-----------------------+-----------------------+------------------------+---+--------------------+\n",
      "|   ruta| ancla|x_num_tot_viajes_3|x_num_tot_viajes_6|x_num_tot_viajes_9|x_num_tot_viajes_12|x_duracion_prom_viaje_3|x_duracion_prom_viaje_6|x_duracion_prom_viaje_9|x_duracion_prom_viaje_12|  y|            features|\n",
      "+-------+------+------------------+------------------+------------------+-------------------+-----------------------+-----------------------+-----------------------+------------------------+---+--------------------+\n",
      "|100|103|201534|                 1|                 1|                 1|                  1|                    666|                    666|                    666|                     666|  1|[1.0,1.0,1.0,1.0,...|\n",
      "|100|103|201536|                 1|                 2|                 2|                  2|                    986|                    826|                    826|                     826|  1|[1.0,2.0,2.0,2.0,...|\n",
      "|100|103|201628|                 1|                 1|                 1|                  3|                    583|                    583|                    583|                    1028|  3|[1.0,1.0,1.0,3.0,...|\n",
      "|100|103|201724|                 2|                 2|                 2|                  2|                   1038|                   1038|                   1038|                    1038|  1|[2.0,2.0,2.0,2.0,...|\n",
      "|100|103|201730|                 1|                 2|                 4|                  4|                    959|                   1013|                   1026|                    1026|  1|[1.0,2.0,4.0,4.0,...|\n",
      "+-------+------+------------------+------------------+------------------+-------------------+-----------------------+-----------------------+-----------------------+------------------------+---+--------------------+\n",
      "only showing top 5 rows\n",
      "\n"
     ]
    }
   ],
   "source": [
    "v.show(5)"
   ]
  },
  {
   "cell_type": "code",
   "execution_count": 72,
   "metadata": {},
   "outputs": [
    {
     "data": {
      "text/plain": [
       "2316196"
      ]
     },
     "execution_count": 72,
     "metadata": {},
     "output_type": "execute_result"
    }
   ],
   "source": [
    "v.count()"
   ]
  },
  {
   "cell_type": "code",
   "execution_count": 73,
   "metadata": {},
   "outputs": [],
   "source": [
    "model = LinearRegression(featuresCol='features', labelCol='y')"
   ]
  },
  {
   "cell_type": "code",
   "execution_count": 74,
   "metadata": {},
   "outputs": [],
   "source": [
    "model = model.fit(v)"
   ]
  },
  {
   "cell_type": "code",
   "execution_count": 75,
   "metadata": {},
   "outputs": [],
   "source": [
    "vt = assembler.transform(test)"
   ]
  },
  {
   "cell_type": "code",
   "execution_count": 76,
   "metadata": {},
   "outputs": [],
   "source": [
    "ev = RegressionEvaluator(predictionCol='prediction',labelCol='y',metricName='mae')"
   ]
  },
  {
   "cell_type": "code",
   "execution_count": 77,
   "metadata": {},
   "outputs": [
    {
     "data": {
      "text/plain": [
       "1.6158255080070592"
      ]
     },
     "execution_count": 77,
     "metadata": {},
     "output_type": "execute_result"
    }
   ],
   "source": [
    "ev.evaluate(model.transform(vt).select('features','y','prediction'))"
   ]
  },
  {
   "cell_type": "code",
   "execution_count": 78,
   "metadata": {},
   "outputs": [
    {
     "data": {
      "text/plain": [
       "1.6157694249630519"
      ]
     },
     "execution_count": 78,
     "metadata": {},
     "output_type": "execute_result"
    }
   ],
   "source": [
    "ev.evaluate(model.transform(v).select('features','y','prediction'))"
   ]
  },
  {
   "cell_type": "code",
   "execution_count": 57,
   "metadata": {},
   "outputs": [
    {
     "name": "stdout",
     "output_type": "stream",
     "text": [
      "+-------+------+------------------+------------------+------------------+-------------------+-----------------------+-----------------------+-----------------------+------------------------+----+--------------------+------------------+\n",
      "|   ruta| ancla|x_num_tot_viajes_3|x_num_tot_viajes_6|x_num_tot_viajes_9|x_num_tot_viajes_12|x_duracion_prom_viaje_3|x_duracion_prom_viaje_6|x_duracion_prom_viaje_9|x_duracion_prom_viaje_12|   y|            features|        prediction|\n",
      "+-------+------+------------------+------------------+------------------+-------------------+-----------------------+-----------------------+-----------------------+------------------------+----+--------------------+------------------+\n",
      "|100|103|201534|                 1|                 1|                 1|                  1|                    666|                    666|                    666|                     666| 986|[1.0,1.0,1.0,1.0,...| 860.7657453393729|\n",
      "|100|103|201724|                 2|                 2|                 2|                  2|                   1038|                   1038|                   1038|                    1038|1068|[2.0,2.0,2.0,2.0,...| 977.3680714216157|\n",
      "|100|103|201730|                 1|                 2|                 4|                  4|                    959|                   1013|                   1026|                    1026| 884|[1.0,2.0,4.0,4.0,...| 973.3392351381606|\n",
      "|100|103|201736|                 2|                 4|                 5|                  6|                   1718|                   1226|                   1172|                    1155| 808|[2.0,4.0,5.0,6.0,...|1023.3959290212995|\n",
      "|100|103|201741|                 2|                 5|                 6|                  7|                    999|                   1248|                   1138|                    1101|1145|[2.0,5.0,6.0,7.0,...| 996.6260422913376|\n",
      "+-------+------+------------------+------------------+------------------+-------------------+-----------------------+-----------------------+-----------------------+------------------------+----+--------------------+------------------+\n",
      "only showing top 5 rows\n",
      "\n"
     ]
    }
   ],
   "source": [
    "model.transform(v).show(5)"
   ]
  },
  {
   "cell_type": "code",
   "execution_count": 80,
   "metadata": {},
   "outputs": [],
   "source": [
    "res_v = assembler.transform(df)"
   ]
  },
  {
   "cell_type": "code",
   "execution_count": 81,
   "metadata": {},
   "outputs": [],
   "source": [
    "res = model.transform(res_v)"
   ]
  },
  {
   "cell_type": "code",
   "execution_count": 82,
   "metadata": {},
   "outputs": [
    {
     "name": "stdout",
     "output_type": "stream",
     "text": [
      "+----+------+------------------+------------------+------------------+-------------------+-----------------------+-----------------------+-----------------------+------------------------+---+--------------------+------------------+\n",
      "|ruta| ancla|x_num_tot_viajes_3|x_num_tot_viajes_6|x_num_tot_viajes_9|x_num_tot_viajes_12|x_duracion_prom_viaje_3|x_duracion_prom_viaje_6|x_duracion_prom_viaje_9|x_duracion_prom_viaje_12|  y|            features|        prediction|\n",
      "+----+------+------------------+------------------+------------------+-------------------+-----------------------+-----------------------+-----------------------+------------------------+---+--------------------+------------------+\n",
      "| 2|2|201719|                42|               150|               172|                194|                   3284|                   3846|                   3614|                    3596| 26|[42.0,150.0,172.0...|  20.1285845001129|\n",
      "| 2|3|201719|                23|                47|                55|                 78|                   1102|                    978|                    948|                     950| 19|[23.0,47.0,55.0,7...| 8.039791623092748|\n",
      "|2|26|201719|                11|                21|                26|                 26|                    679|                   1271|                   1754|                    1754|  4|[11.0,21.0,26.0,2...| 4.572961964712541|\n",
      "|2|45|201719|                 1|                 7|                 7|                 10|                   2519|                   2187|                   2187|                    1729|  3|[1.0,7.0,7.0,10.0...| 1.451085064915795|\n",
      "|2|49|201719|                 2|                 2|                 5|                  5|                    612|                    612|                   1682|                    1682|  1|[2.0,2.0,5.0,5.0,...|1.2890636838386857|\n",
      "+----+------+------------------+------------------+------------------+-------------------+-----------------------+-----------------------+-----------------------+------------------------+---+--------------------+------------------+\n",
      "only showing top 5 rows\n",
      "\n"
     ]
    }
   ],
   "source": [
    "res.show(5)"
   ]
  },
  {
   "cell_type": "code",
   "execution_count": 83,
   "metadata": {},
   "outputs": [
    {
     "data": {
      "text/plain": [
       "['ruta',\n",
       " 'ancla',\n",
       " 'x_num_tot_viajes_3',\n",
       " 'x_num_tot_viajes_6',\n",
       " 'x_num_tot_viajes_9',\n",
       " 'x_num_tot_viajes_12',\n",
       " 'x_duracion_prom_viaje_3',\n",
       " 'x_duracion_prom_viaje_6',\n",
       " 'x_duracion_prom_viaje_9',\n",
       " 'x_duracion_prom_viaje_12',\n",
       " 'y',\n",
       " 'features',\n",
       " 'prediction']"
      ]
     },
     "execution_count": 83,
     "metadata": {},
     "output_type": "execute_result"
    }
   ],
   "source": [
    "res.columns"
   ]
  },
  {
   "cell_type": "code",
   "execution_count": 88,
   "metadata": {},
   "outputs": [],
   "source": [
    "res.select(['ruta',\n",
    " 'ancla',\n",
    " 'x_num_tot_viajes_3',\n",
    " 'x_num_tot_viajes_6',\n",
    " 'x_num_tot_viajes_9',\n",
    " 'x_num_tot_viajes_12',\n",
    " 'x_duracion_prom_viaje_3',\n",
    " 'x_duracion_prom_viaje_6',\n",
    " 'x_duracion_prom_viaje_9',\n",
    " 'x_duracion_prom_viaje_12',\n",
    " 'prediction']).toPandas().to_csv('resultadisimo.csv', index=False)"
   ]
  },
  {
   "cell_type": "code",
   "execution_count": null,
   "metadata": {},
   "outputs": [],
   "source": []
  }
 ],
 "metadata": {
  "kernelspec": {
   "display_name": "Python 3",
   "language": "python",
   "name": "python3"
  },
  "language_info": {
   "codemirror_mode": {
    "name": "ipython",
    "version": 3
   },
   "file_extension": ".py",
   "mimetype": "text/x-python",
   "name": "python",
   "nbconvert_exporter": "python",
   "pygments_lexer": "ipython3",
   "version": "3.8.5"
  }
 },
 "nbformat": 4,
 "nbformat_minor": 5
}
